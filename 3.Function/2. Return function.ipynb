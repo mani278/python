{
 "cells": [
  {
   "cell_type": "markdown",
   "id": "67971144",
   "metadata": {},
   "source": [
    "Return method will return the processed output data from the function to the variable where the function is called"
   ]
  },
  {
   "cell_type": "markdown",
   "id": "d9a41b5b",
   "metadata": {},
   "source": [
    "#### Return method only be used inside the function"
   ]
  },
  {
   "cell_type": "markdown",
   "id": "82585c47",
   "metadata": {},
   "source": [
    "Without Return method:"
   ]
  },
  {
   "cell_type": "code",
   "execution_count": 1,
   "id": "2ea4c19e",
   "metadata": {},
   "outputs": [
    {
     "name": "stdout",
     "output_type": "stream",
     "text": [
      "Enter the num : 7\n",
      "Enter the num : 5\n",
      "7*5=35\n",
      "\n",
      "data = None\n",
      "\n",
      "Data type of data is <class 'NoneType'>\n"
     ]
    }
   ],
   "source": [
    "def calc(a,b):\n",
    "    print(f\"{a}*{b}={a*b}\")\n",
    "\n",
    "num1 = int(input(\"Enter the num : \"))\n",
    "num2 = int(input(\"Enter the num : \"))\n",
    "\n",
    "data = calc(num1,num2)  # Nothing will be stored in the data\n",
    "print(\"\")\n",
    "print(f\"data = {data}\")\n",
    "print(\"\")\n",
    "print(f\"Data type of data is {type(data)}\")   # The data type is none here"
   ]
  },
  {
   "cell_type": "markdown",
   "id": "5a928999",
   "metadata": {},
   "source": [
    "With retrun method:"
   ]
  },
  {
   "cell_type": "code",
   "execution_count": 2,
   "id": "e09c9dbe",
   "metadata": {},
   "outputs": [
    {
     "name": "stdout",
     "output_type": "stream",
     "text": [
      "Enter the num : 8\n",
      "Enter the num : 2\n",
      "\n",
      "data = 16\n",
      "\n",
      "Data type of data is <class 'int'>\n"
     ]
    }
   ],
   "source": [
    "def calc(a,b):\n",
    "    return a*b\n",
    "\n",
    "num1 = int(input(\"Enter the num : \"))\n",
    "num2 = int(input(\"Enter the num : \"))\n",
    "\n",
    "data = calc(num1,num2)   # Returned output will store in the data\n",
    "print(\"\")\n",
    "print(f\"data = {data}\") \n",
    "print(\"\")\n",
    "print(f\"Data type of data is {type(data)}\")  # The data type is int here"
   ]
  },
  {
   "cell_type": "code",
   "execution_count": null,
   "id": "c98ee86c",
   "metadata": {},
   "outputs": [],
   "source": []
  }
 ],
 "metadata": {
  "kernelspec": {
   "display_name": "Python 3",
   "language": "python",
   "name": "python3"
  },
  "language_info": {
   "codemirror_mode": {
    "name": "ipython",
    "version": 3
   },
   "file_extension": ".py",
   "mimetype": "text/x-python",
   "name": "python",
   "nbconvert_exporter": "python",
   "pygments_lexer": "ipython3",
   "version": "3.8.8"
  }
 },
 "nbformat": 4,
 "nbformat_minor": 5
}
