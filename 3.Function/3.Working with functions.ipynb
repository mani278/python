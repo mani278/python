{
 "cells": [
  {
   "cell_type": "markdown",
   "id": "16d82b87",
   "metadata": {},
   "source": [
    "# Creating Nested Function:"
   ]
  },
  {
   "cell_type": "markdown",
   "id": "dfb2cbbe",
   "metadata": {},
   "source": [
    "Creating a function inside a funtion is nested function"
   ]
  },
  {
   "cell_type": "code",
   "execution_count": 5,
   "id": "7edea80a",
   "metadata": {},
   "outputs": [
    {
     "name": "stdout",
     "output_type": "stream",
     "text": [
      "Enter the first number : 5\n",
      "Enter the second number : 2\n",
      "\n",
      "Sum of 5.0 and 2.0 is 7.0\n",
      "Sub of 5.0 and 2.0 is 3.0\n"
     ]
    }
   ],
   "source": [
    "def add(a,b):\n",
    "    print(f\"\\nSum of {a} and {b} is {a+b}\")\n",
    "    def sub():\n",
    "        print(f\"Sub of {a} and {b} is {a-b}\")\n",
    "    sub()\n",
    "\n",
    "num_1 = float(input(\"Enter the first number : \"))\n",
    "num_2 = float(input(\"Enter the second number : \"))\n",
    "\n",
    "add(num_1, num_2)\n"
   ]
  },
  {
   "cell_type": "markdown",
   "id": "69eac225",
   "metadata": {},
   "source": [
    "# Assigning default parameter value"
   ]
  },
  {
   "cell_type": "markdown",
   "id": "735bceaa",
   "metadata": {},
   "source": [
    "Without default parameter value"
   ]
  },
  {
   "cell_type": "code",
   "execution_count": 1,
   "id": "7d723c8f",
   "metadata": {},
   "outputs": [
    {
     "name": "stdout",
     "output_type": "stream",
     "text": [
      "Welcome Dr.Alex\n"
     ]
    }
   ],
   "source": [
    "def greet(name, greet):\n",
    "    print(f\"Welcome {greet}.{name}\")\n",
    "\n",
    "greet(\"Alex\",\"Dr\")"
   ]
  },
  {
   "cell_type": "markdown",
   "id": "bf8b15ed",
   "metadata": {},
   "source": [
    "With default parameter"
   ]
  },
  {
   "cell_type": "code",
   "execution_count": 2,
   "id": "79821f1f",
   "metadata": {},
   "outputs": [
    {
     "name": "stdout",
     "output_type": "stream",
     "text": [
      "Welcome Dr.Alex\n"
     ]
    }
   ],
   "source": [
    "def greet(name,greet=\"Dr\"):\n",
    "    print(f\"Welcome {greet}.{name}\")\n",
    "\n",
    "greet(\"Alex\")"
   ]
  },
  {
   "cell_type": "code",
   "execution_count": 4,
   "id": "b6e4ff4a",
   "metadata": {},
   "outputs": [
    {
     "name": "stdout",
     "output_type": "stream",
     "text": [
      "Welcome Mr.Alex\n"
     ]
    }
   ],
   "source": [
    "greet(\"Alex\",\"Mr\")   # We can change the default parameter value calling the function"
   ]
  },
  {
   "cell_type": "markdown",
   "id": "bf19aeed",
   "metadata": {},
   "source": [
    "Getting Input from user:"
   ]
  },
  {
   "cell_type": "code",
   "execution_count": 6,
   "id": "9db4e992",
   "metadata": {},
   "outputs": [
    {
     "name": "stdout",
     "output_type": "stream",
     "text": [
      "Enter your name : John\n",
      "Enter your age : 46\n",
      "Enter your work : python developer\n",
      "Enter your gender : Male\n",
      "\n",
      "Your name : John\n",
      "Your age : 46\n",
      "Your gender : Male\n",
      "Your work : python developer\n"
     ]
    }
   ],
   "source": [
    "def details(name,age,gender,work):\n",
    "    print(\"\")\n",
    "    print(f\"Your name : {name}\")\n",
    "    print(f\"Your age : {age}\")\n",
    "    print(f\"Your gender : {gender}\")\n",
    "    print(f\"Your work : {work}\")\n",
    "\n",
    "    \n",
    "name = str(input(\"Enter your name : \"))\n",
    "age = int(input(\"Enter your age : \"))\n",
    "work = str(input(\"Enter your work : \"))\n",
    "gender = str(input(\"Enter your gender : \"))\n",
    "\n",
    "details(name,age,gender,work)"
   ]
  },
  {
   "cell_type": "code",
   "execution_count": null,
   "id": "562a3294",
   "metadata": {},
   "outputs": [],
   "source": []
  }
 ],
 "metadata": {
  "kernelspec": {
   "display_name": "Python 3",
   "language": "python",
   "name": "python3"
  },
  "language_info": {
   "codemirror_mode": {
    "name": "ipython",
    "version": 3
   },
   "file_extension": ".py",
   "mimetype": "text/x-python",
   "name": "python",
   "nbconvert_exporter": "python",
   "pygments_lexer": "ipython3",
   "version": "3.8.8"
  }
 },
 "nbformat": 4,
 "nbformat_minor": 5
}
