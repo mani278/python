{
 "cells": [
  {
   "cell_type": "markdown",
   "id": "1e02af4b",
   "metadata": {},
   "source": [
    "## Arguments are nothing but parameters in the function"
   ]
  },
  {
   "cell_type": "markdown",
   "id": "56d2164d",
   "metadata": {},
   "source": [
    "### 1. Required Arguments"
   ]
  },
  {
   "cell_type": "markdown",
   "id": "43aec6b3",
   "metadata": {},
   "source": [
    "Requierd arguments are parameters which should be provided compulsary while calling the function"
   ]
  },
  {
   "cell_type": "code",
   "execution_count": 10,
   "id": "18cf9b3e",
   "metadata": {},
   "outputs": [
    {
     "ename": "TypeError",
     "evalue": "add() missing 2 required positional arguments: 'a' and 'b'",
     "output_type": "error",
     "traceback": [
      "\u001b[1;31m---------------------------------------------------------------------------\u001b[0m",
      "\u001b[1;31mTypeError\u001b[0m                                 Traceback (most recent call last)",
      "\u001b[1;32m<ipython-input-10-7206251a34b9>\u001b[0m in \u001b[0;36m<module>\u001b[1;34m\u001b[0m\n\u001b[0;32m      2\u001b[0m      \u001b[1;32mreturn\u001b[0m \u001b[0ma\u001b[0m\u001b[1;33m*\u001b[0m\u001b[0mb\u001b[0m\u001b[1;33m\u001b[0m\u001b[1;33m\u001b[0m\u001b[0m\n\u001b[0;32m      3\u001b[0m \u001b[1;33m\u001b[0m\u001b[0m\n\u001b[1;32m----> 4\u001b[1;33m \u001b[0mvalue\u001b[0m \u001b[1;33m=\u001b[0m \u001b[0madd\u001b[0m\u001b[1;33m(\u001b[0m\u001b[1;33m)\u001b[0m   \u001b[1;31m# Without passing the parameter\u001b[0m\u001b[1;33m\u001b[0m\u001b[1;33m\u001b[0m\u001b[0m\n\u001b[0m\u001b[0;32m      5\u001b[0m \u001b[0mprint\u001b[0m\u001b[1;33m(\u001b[0m\u001b[0mvalue\u001b[0m\u001b[1;33m)\u001b[0m\u001b[1;33m\u001b[0m\u001b[1;33m\u001b[0m\u001b[0m\n",
      "\u001b[1;31mTypeError\u001b[0m: add() missing 2 required positional arguments: 'a' and 'b'"
     ]
    }
   ],
   "source": [
    "def add(a,b):\n",
    "     return a*b\n",
    "    \n",
    "value = add()   # Without passing the parameter\n",
    "print(value)     "
   ]
  },
  {
   "cell_type": "code",
   "execution_count": 11,
   "id": "a8682f6c",
   "metadata": {},
   "outputs": [
    {
     "name": "stdout",
     "output_type": "stream",
     "text": [
      "24\n"
     ]
    }
   ],
   "source": [
    "def add(a,b):\n",
    "     return a*b\n",
    "    \n",
    "value = add(4,6)# Passing all the required parameters\n",
    "print(value)"
   ]
  },
  {
   "cell_type": "code",
   "execution_count": null,
   "id": "7b1bbb5e",
   "metadata": {},
   "outputs": [],
   "source": []
  },
  {
   "cell_type": "markdown",
   "id": "2003c2ed",
   "metadata": {},
   "source": [
    "### 2. Default Arguments"
   ]
  },
  {
   "cell_type": "code",
   "execution_count": 22,
   "id": "341da46e",
   "metadata": {},
   "outputs": [
    {
     "ename": "SyntaxError",
     "evalue": "non-default argument follows default argument (<ipython-input-22-bb567525bbd7>, line 1)",
     "output_type": "error",
     "traceback": [
      "\u001b[1;36m  File \u001b[1;32m\"<ipython-input-22-bb567525bbd7>\"\u001b[1;36m, line \u001b[1;32m1\u001b[0m\n\u001b[1;33m    def add(a,b=6,c):\u001b[0m\n\u001b[1;37m            ^\u001b[0m\n\u001b[1;31mSyntaxError\u001b[0m\u001b[1;31m:\u001b[0m non-default argument follows default argument\n"
     ]
    }
   ],
   "source": [
    "def add(a,b=6,c):\n",
    "     return a*b\n",
    "    \n",
    "value = add(a=2,c=7)\n",
    "print(value) "
   ]
  },
  {
   "cell_type": "markdown",
   "id": "1a6d9b23",
   "metadata": {},
   "source": [
    "The above code throwing error because a non-keyword argument is after the keyword argument"
   ]
  },
  {
   "cell_type": "markdown",
   "id": "d59a11f3",
   "metadata": {},
   "source": [
    "Make sure the keyword(default) argument follows the non-keyword(non-default) arguments.\n",
    "\n",
    "Arrange according to the above rule."
   ]
  },
  {
   "cell_type": "code",
   "execution_count": 24,
   "id": "74e6a6eb",
   "metadata": {},
   "outputs": [
    {
     "name": "stdout",
     "output_type": "stream",
     "text": [
      "12\n"
     ]
    }
   ],
   "source": [
    "def add(a,c,b=6):\n",
    "     return a*b\n",
    "    \n",
    "value = add(2,5)\n",
    "print(value)"
   ]
  },
  {
   "cell_type": "code",
   "execution_count": null,
   "id": "1696cd84",
   "metadata": {},
   "outputs": [],
   "source": []
  },
  {
   "cell_type": "markdown",
   "id": "2f5826fa",
   "metadata": {},
   "source": [
    "### 3. Variable number of arguments"
   ]
  },
  {
   "cell_type": "code",
   "execution_count": 31,
   "id": "73e726ea",
   "metadata": {},
   "outputs": [
    {
     "ename": "TypeError",
     "evalue": "func() takes 2 positional arguments but 6 were given",
     "output_type": "error",
     "traceback": [
      "\u001b[1;31m---------------------------------------------------------------------------\u001b[0m",
      "\u001b[1;31mTypeError\u001b[0m                                 Traceback (most recent call last)",
      "\u001b[1;32m<ipython-input-31-a8eaa44b4b59>\u001b[0m in \u001b[0;36m<module>\u001b[1;34m\u001b[0m\n\u001b[0;32m      3\u001b[0m     \u001b[0mprint\u001b[0m\u001b[1;33m(\u001b[0m\u001b[0margs\u001b[0m\u001b[1;33m)\u001b[0m\u001b[1;33m\u001b[0m\u001b[1;33m\u001b[0m\u001b[0m\n\u001b[0;32m      4\u001b[0m \u001b[1;33m\u001b[0m\u001b[0m\n\u001b[1;32m----> 5\u001b[1;33m \u001b[0mfunc\u001b[0m\u001b[1;33m(\u001b[0m\u001b[1;36m1\u001b[0m\u001b[1;33m,\u001b[0m\u001b[1;36m2\u001b[0m\u001b[1;33m,\u001b[0m\u001b[1;36m3\u001b[0m\u001b[1;33m,\u001b[0m\u001b[1;36m4\u001b[0m\u001b[1;33m,\u001b[0m\u001b[1;36m7\u001b[0m\u001b[1;33m,\u001b[0m\u001b[1;36m9\u001b[0m\u001b[1;33m)\u001b[0m\u001b[1;33m\u001b[0m\u001b[1;33m\u001b[0m\u001b[0m\n\u001b[0m\u001b[0;32m      6\u001b[0m \u001b[1;33m\u001b[0m\u001b[0m\n",
      "\u001b[1;31mTypeError\u001b[0m: func() takes 2 positional arguments but 6 were given"
     ]
    }
   ],
   "source": [
    "def func(a,args):\n",
    "    print(a)\n",
    "    print(args)\n",
    "    \n",
    "func(1,2,3,4,7,9)\n",
    "    "
   ]
  },
  {
   "cell_type": "markdown",
   "id": "94f8dfe6",
   "metadata": {},
   "source": [
    "The above method throws error because more parameter value are passed while calling the function.\n",
    "\n",
    "This error can be rectified by using a method of (*args), args may be any variable."
   ]
  },
  {
   "cell_type": "code",
   "execution_count": 34,
   "id": "501fc1f6",
   "metadata": {},
   "outputs": [
    {
     "name": "stdout",
     "output_type": "stream",
     "text": [
      "1\n",
      "(2, 3, 4, 7, 9)\n"
     ]
    }
   ],
   "source": [
    "def func(a,*args):\n",
    "    print(a)\n",
    "    print(args)\n",
    "    \n",
    "func(1,2,3,4,7,9)\n",
    "    "
   ]
  },
  {
   "cell_type": "code",
   "execution_count": 35,
   "id": "9d5d44fa",
   "metadata": {},
   "outputs": [
    {
     "name": "stdout",
     "output_type": "stream",
     "text": [
      "1\n",
      "2\n",
      "(3, 4, 7, 9)\n"
     ]
    }
   ],
   "source": [
    "def func(a,b,*args):\n",
    "    print(a)\n",
    "    print(b)\n",
    "    print(args)\n",
    "    \n",
    "func(1,2,3,4,7,9)\n",
    "    "
   ]
  },
  {
   "cell_type": "markdown",
   "id": "f7f3e96a",
   "metadata": {},
   "source": [
    "All the parameters are passed without error because of the *args method.\n",
    "\n",
    "The values in args are in tuble datatype."
   ]
  },
  {
   "cell_type": "code",
   "execution_count": 40,
   "id": "d9971a94",
   "metadata": {},
   "outputs": [
    {
     "name": "stdout",
     "output_type": "stream",
     "text": [
      "26\n"
     ]
    }
   ],
   "source": [
    "def func(a,*args):\n",
    "    z = a+args[0]\n",
    "    z = z+args[1]\n",
    "    z = z+args[2]\n",
    "    z = z+args[3]\n",
    "    z = z+args[4]\n",
    "    return z\n",
    "\n",
    "value = func(1,2,3,4,7,9)\n",
    "print(value)"
   ]
  },
  {
   "cell_type": "code",
   "execution_count": null,
   "id": "32a790b7",
   "metadata": {},
   "outputs": [],
   "source": []
  },
  {
   "cell_type": "markdown",
   "id": "c4885ae5",
   "metadata": {},
   "source": [
    "### 4. Keyword Arguments"
   ]
  },
  {
   "cell_type": "markdown",
   "id": "4457fa3d",
   "metadata": {},
   "source": [
    "This method is also same as *args method but the data passed with the variable name.\n",
    "\n",
    "This method uses **kwargs(double *) instead of *args."
   ]
  },
  {
   "cell_type": "code",
   "execution_count": 70,
   "id": "19646141",
   "metadata": {},
   "outputs": [
    {
     "name": "stdout",
     "output_type": "stream",
     "text": [
      "Name : jhon\n",
      "Other details : {'age': 50, 'gender': 'Male', 'work': 'Python developer'}\n",
      "Other details : 50\n"
     ]
    }
   ],
   "source": [
    "def details(name,**kwargs):\n",
    "    print(f\"Name : {name}\")\n",
    "    print(f\"Other details : {kwargs}\")\n",
    "    print(f\"Other details : {kwargs['age']}\")\n",
    "\n",
    "details(\"jhon\",age=50,gender=\"Male\",work=\"Python developer\")"
   ]
  },
  {
   "cell_type": "code",
   "execution_count": null,
   "id": "631a2c55",
   "metadata": {},
   "outputs": [],
   "source": []
  }
 ],
 "metadata": {
  "kernelspec": {
   "display_name": "Python 3",
   "language": "python",
   "name": "python3"
  },
  "language_info": {
   "codemirror_mode": {
    "name": "ipython",
    "version": 3
   },
   "file_extension": ".py",
   "mimetype": "text/x-python",
   "name": "python",
   "nbconvert_exporter": "python",
   "pygments_lexer": "ipython3",
   "version": "3.8.8"
  }
 },
 "nbformat": 4,
 "nbformat_minor": 5
}
