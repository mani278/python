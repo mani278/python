{
 "cells": [
  {
   "cell_type": "markdown",
   "id": "f6b99f54",
   "metadata": {},
   "source": [
    "# Anonymous function : lambda"
   ]
  },
  {
   "cell_type": "markdown",
   "id": "5e651ac5",
   "metadata": {},
   "source": [
    "Anonymous function in python is a method that reduces the line of code in python"
   ]
  },
  {
   "cell_type": "markdown",
   "id": "09925a3c",
   "metadata": {},
   "source": [
    "##### Normal function"
   ]
  },
  {
   "cell_type": "code",
   "execution_count": 30,
   "id": "2c619a2b",
   "metadata": {},
   "outputs": [
    {
     "name": "stdout",
     "output_type": "stream",
     "text": [
      "36\n"
     ]
    }
   ],
   "source": [
    "def mul(a):\n",
    "    return a*a\n",
    "\n",
    "value = mul(6)\n",
    "print(value)"
   ]
  },
  {
   "cell_type": "markdown",
   "id": "ffaf1b8a",
   "metadata": {},
   "source": [
    "##### Anonymous function\n",
    "##### converting normal function to lambda function"
   ]
  },
  {
   "cell_type": "code",
   "execution_count": 35,
   "id": "60e6fd1d",
   "metadata": {},
   "outputs": [],
   "source": [
    "def mul(a): return a*a"
   ]
  },
  {
   "cell_type": "code",
   "execution_count": 37,
   "id": "1b85091f",
   "metadata": {},
   "outputs": [
    {
     "data": {
      "text/plain": [
       "36"
      ]
     },
     "execution_count": 37,
     "metadata": {},
     "output_type": "execute_result"
    }
   ],
   "source": [
    "mul(6)"
   ]
  },
  {
   "cell_type": "code",
   "execution_count": 38,
   "id": "74001506",
   "metadata": {},
   "outputs": [],
   "source": [
    "mul = lambda a: a*a"
   ]
  },
  {
   "cell_type": "code",
   "execution_count": 39,
   "id": "ec1403a1",
   "metadata": {},
   "outputs": [
    {
     "data": {
      "text/plain": [
       "36"
      ]
     },
     "execution_count": 39,
     "metadata": {},
     "output_type": "execute_result"
    }
   ],
   "source": [
    "mul(6)"
   ]
  },
  {
   "cell_type": "code",
   "execution_count": null,
   "id": "62f1a321",
   "metadata": {},
   "outputs": [],
   "source": []
  },
  {
   "cell_type": "markdown",
   "id": "a437713a",
   "metadata": {},
   "source": [
    "### Map"
   ]
  },
  {
   "cell_type": "markdown",
   "id": "1b3ae0bb",
   "metadata": {},
   "source": [
    "This map method will map the function with variable"
   ]
  },
  {
   "cell_type": "code",
   "execution_count": 9,
   "id": "e0bb8522",
   "metadata": {},
   "outputs": [],
   "source": [
    "def even(num):\n",
    "    if num%2 == 0:\n",
    "        return f\"{num} is even\"\n",
    "    else:\n",
    "        return f\"{num} is odd\""
   ]
  },
  {
   "cell_type": "code",
   "execution_count": 15,
   "id": "0c6b738c",
   "metadata": {},
   "outputs": [],
   "source": [
    "nums = [1,2,3,4,5,6,7,8,9,10]"
   ]
  },
  {
   "cell_type": "code",
   "execution_count": 22,
   "id": "548145fc",
   "metadata": {},
   "outputs": [
    {
     "ename": "TypeError",
     "evalue": "even() missing 1 required positional argument: 'num'",
     "output_type": "error",
     "traceback": [
      "\u001b[1;31m---------------------------------------------------------------------------\u001b[0m",
      "\u001b[1;31mTypeError\u001b[0m                                 Traceback (most recent call last)",
      "\u001b[1;32m<ipython-input-22-5bb77c2f28f8>\u001b[0m in \u001b[0;36m<module>\u001b[1;34m\u001b[0m\n\u001b[1;32m----> 1\u001b[1;33m \u001b[0mmap\u001b[0m\u001b[1;33m(\u001b[0m\u001b[0meven\u001b[0m\u001b[1;33m(\u001b[0m\u001b[1;33m)\u001b[0m\u001b[1;33m,\u001b[0m\u001b[0mnums\u001b[0m\u001b[1;33m)\u001b[0m  \u001b[1;31m# Should not use parantheses for function in map\u001b[0m\u001b[1;33m\u001b[0m\u001b[1;33m\u001b[0m\u001b[0m\n\u001b[0m",
      "\u001b[1;31mTypeError\u001b[0m: even() missing 1 required positional argument: 'num'"
     ]
    }
   ],
   "source": [
    "map(even(),nums)  # Should not use parantheses for function in map"
   ]
  },
  {
   "cell_type": "code",
   "execution_count": 23,
   "id": "442e0bcc",
   "metadata": {},
   "outputs": [
    {
     "data": {
      "text/plain": [
       "<map at 0x2740ff9d340>"
      ]
     },
     "execution_count": 23,
     "metadata": {},
     "output_type": "execute_result"
    }
   ],
   "source": [
    "map(even,nums)"
   ]
  },
  {
   "cell_type": "code",
   "execution_count": 24,
   "id": "17150185",
   "metadata": {},
   "outputs": [
    {
     "data": {
      "text/plain": [
       "['1 is odd',\n",
       " '2 is even',\n",
       " '3 is odd',\n",
       " '4 is even',\n",
       " '5 is odd',\n",
       " '6 is even',\n",
       " '7 is odd',\n",
       " '8 is even',\n",
       " '9 is odd',\n",
       " '10 is even']"
      ]
     },
     "execution_count": 24,
     "metadata": {},
     "output_type": "execute_result"
    }
   ],
   "source": [
    "list(map(even,nums))"
   ]
  },
  {
   "cell_type": "code",
   "execution_count": 14,
   "id": "226d4c5a",
   "metadata": {},
   "outputs": [],
   "source": [
    "def splicer(name):\n",
    "    if len(name)%2 == 0:\n",
    "        return name\n",
    "    else:\n",
    "        return name[0]"
   ]
  },
  {
   "cell_type": "code",
   "execution_count": 25,
   "id": "1d761f64",
   "metadata": {},
   "outputs": [],
   "source": [
    "names = [\"Alice\",\"Jhon\",\"Cathrine\",\"Angelina\"]"
   ]
  },
  {
   "cell_type": "code",
   "execution_count": 26,
   "id": "eb128de4",
   "metadata": {},
   "outputs": [
    {
     "data": {
      "text/plain": [
       "['A', 'Jhon', 'Cathrine', 'Angelina']"
      ]
     },
     "execution_count": 26,
     "metadata": {},
     "output_type": "execute_result"
    }
   ],
   "source": [
    "list(map(splicer,names))"
   ]
  },
  {
   "cell_type": "code",
   "execution_count": null,
   "id": "d4b847c1",
   "metadata": {},
   "outputs": [],
   "source": []
  },
  {
   "cell_type": "markdown",
   "id": "14b6d57f",
   "metadata": {},
   "source": [
    "### Filter"
   ]
  },
  {
   "cell_type": "code",
   "execution_count": 27,
   "id": "70760381",
   "metadata": {},
   "outputs": [],
   "source": [
    "def even(num):\n",
    "    if num%2 == 0:\n",
    "        return f\"{num} is even\""
   ]
  },
  {
   "cell_type": "code",
   "execution_count": 40,
   "id": "3959e5c5",
   "metadata": {},
   "outputs": [],
   "source": [
    "nums = [1,2,3,4,5,6,7,8,9,10]"
   ]
  },
  {
   "cell_type": "code",
   "execution_count": 41,
   "id": "f7e7cdda",
   "metadata": {},
   "outputs": [
    {
     "data": {
      "text/plain": [
       "[None,\n",
       " '2 is even',\n",
       " None,\n",
       " '4 is even',\n",
       " None,\n",
       " '6 is even',\n",
       " None,\n",
       " '8 is even',\n",
       " None,\n",
       " '10 is even']"
      ]
     },
     "execution_count": 41,
     "metadata": {},
     "output_type": "execute_result"
    }
   ],
   "source": [
    "list(map(even,nums))  # Will return NONE when the function not satisfies"
   ]
  },
  {
   "cell_type": "code",
   "execution_count": 42,
   "id": "031b4392",
   "metadata": {},
   "outputs": [
    {
     "data": {
      "text/plain": [
       "[2, 4, 6, 8, 10]"
      ]
     },
     "execution_count": 42,
     "metadata": {},
     "output_type": "execute_result"
    }
   ],
   "source": [
    "list(filter(even,nums))  # Will return NOTHING when the function not satisfies"
   ]
  },
  {
   "cell_type": "code",
   "execution_count": null,
   "id": "cc7beac1",
   "metadata": {},
   "outputs": [],
   "source": []
  },
  {
   "cell_type": "markdown",
   "id": "4e01d90a",
   "metadata": {},
   "source": [
    "### Reduce"
   ]
  },
  {
   "cell_type": "code",
   "execution_count": 66,
   "id": "f848a525",
   "metadata": {},
   "outputs": [
    {
     "data": {
      "text/plain": [
       "10"
      ]
     },
     "execution_count": 66,
     "metadata": {},
     "output_type": "execute_result"
    }
   ],
   "source": [
    "def add(a,*args):\n",
    "    z = a+args[0]\n",
    "    z = z+args[1]\n",
    "    z = z+args[2]\n",
    "    return z\n",
    "\n",
    "add(1,2,3,4)"
   ]
  },
  {
   "cell_type": "code",
   "execution_count": 72,
   "id": "83b9edcf",
   "metadata": {},
   "outputs": [
    {
     "name": "stdout",
     "output_type": "stream",
     "text": [
      "10\n"
     ]
    }
   ],
   "source": [
    "from functools import reduce\n",
    "\n",
    "nums = [1,2,3,4]\n",
    "\n",
    "value = reduce(lambda x, b: x+b,nums)  # Reduce function do auto increment and do the lambda process\n",
    "print(value)"
   ]
  },
  {
   "cell_type": "code",
   "execution_count": null,
   "id": "f76d1b75",
   "metadata": {},
   "outputs": [],
   "source": []
  },
  {
   "cell_type": "markdown",
   "id": "51b139ca",
   "metadata": {},
   "source": [
    "### Making the function simple for map and filter using lambda"
   ]
  },
  {
   "cell_type": "code",
   "execution_count": 50,
   "id": "776bc716",
   "metadata": {},
   "outputs": [
    {
     "data": {
      "text/plain": [
       "[1, 4, 9, 16, 25]"
      ]
     },
     "execution_count": 50,
     "metadata": {},
     "output_type": "execute_result"
    }
   ],
   "source": [
    "def square(num):\n",
    "    return num*num\n",
    "\n",
    "nums = [1,2,3,4,5]            # This takes more line for programming\n",
    "\n",
    "list(map(square,nums))"
   ]
  },
  {
   "cell_type": "code",
   "execution_count": 52,
   "id": "ad53b34a",
   "metadata": {},
   "outputs": [
    {
     "data": {
      "text/plain": [
       "[1, 4, 9, 16, 25]"
      ]
     },
     "execution_count": 52,
     "metadata": {},
     "output_type": "execute_result"
    }
   ],
   "source": [
    "list(map(lambda x: x*x,nums))    # lambda takes a single line code for the same result"
   ]
  },
  {
   "cell_type": "code",
   "execution_count": null,
   "id": "dfcc04a9",
   "metadata": {},
   "outputs": [],
   "source": []
  },
  {
   "cell_type": "code",
   "execution_count": 55,
   "id": "c9eea6c7",
   "metadata": {},
   "outputs": [],
   "source": [
    "nums = [1,2,3,4,5]"
   ]
  },
  {
   "cell_type": "code",
   "execution_count": 56,
   "id": "f5adec42",
   "metadata": {},
   "outputs": [
    {
     "data": {
      "text/plain": [
       "[2, 4]"
      ]
     },
     "execution_count": 56,
     "metadata": {},
     "output_type": "execute_result"
    }
   ],
   "source": [
    "list(filter(lambda x: x%2==0, nums)) "
   ]
  },
  {
   "cell_type": "code",
   "execution_count": null,
   "id": "1e60b1d5",
   "metadata": {},
   "outputs": [],
   "source": []
  }
 ],
 "metadata": {
  "kernelspec": {
   "display_name": "Python 3",
   "language": "python",
   "name": "python3"
  },
  "language_info": {
   "codemirror_mode": {
    "name": "ipython",
    "version": 3
   },
   "file_extension": ".py",
   "mimetype": "text/x-python",
   "name": "python",
   "nbconvert_exporter": "python",
   "pygments_lexer": "ipython3",
   "version": "3.8.8"
  }
 },
 "nbformat": 4,
 "nbformat_minor": 5
}
