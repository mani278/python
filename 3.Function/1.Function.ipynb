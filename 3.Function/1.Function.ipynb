{
 "cells": [
  {
   "cell_type": "markdown",
   "id": "888865a8",
   "metadata": {},
   "source": [
    "# FUNCTION:"
   ]
  },
  {
   "cell_type": "markdown",
   "id": "eed9a178",
   "metadata": {},
   "source": [
    "Function is a set of statements or calculations which can be called anytime in the program:"
   ]
  },
  {
   "cell_type": "markdown",
   "id": "93b9e916",
   "metadata": {},
   "source": [
    "Creating a Function:"
   ]
  },
  {
   "cell_type": "code",
   "execution_count": 1,
   "id": "8f5f39c9",
   "metadata": {},
   "outputs": [],
   "source": [
    "def func_name_1(parameters):\n",
    "    print(f\"function with parameters of {parameters}\")"
   ]
  },
  {
   "cell_type": "markdown",
   "id": "cef5b260",
   "metadata": {},
   "source": [
    "\"def\" is word which says the python compiler that it is a function. \"func_name\" can be any name except the python pre-defined function name. \"parameters\" can be any type and can be many."
   ]
  },
  {
   "cell_type": "markdown",
   "id": "34213799",
   "metadata": {},
   "source": [
    "We can also define a functon without a parameters:"
   ]
  },
  {
   "cell_type": "code",
   "execution_count": 2,
   "id": "a702e19c",
   "metadata": {},
   "outputs": [],
   "source": [
    "def func_name_2():\n",
    "    print(\"function without parameter\")"
   ]
  },
  {
   "cell_type": "markdown",
   "id": "418b032b",
   "metadata": {},
   "source": [
    "We must call the function to activate. defining a function and not calling is waste."
   ]
  },
  {
   "cell_type": "code",
   "execution_count": 3,
   "id": "d82bade9",
   "metadata": {},
   "outputs": [
    {
     "name": "stdout",
     "output_type": "stream",
     "text": [
      "function without parameter\n"
     ]
    }
   ],
   "source": [
    "func_name_2()  # No parameter is passed. So executes without parameter function"
   ]
  },
  {
   "cell_type": "code",
   "execution_count": 4,
   "id": "e7de839a",
   "metadata": {},
   "outputs": [
    {
     "name": "stdout",
     "output_type": "stream",
     "text": [
      "function with parameters of HELLO WORLD\n",
      "function with parameters of 1\n"
     ]
    }
   ],
   "source": [
    "func_name_1(\"HELLO WORLD\")   # parameter is passed. So executes with parameter function\n",
    "func_name_1(1)        # parameter can be ay type"
   ]
  },
  {
   "cell_type": "markdown",
   "id": "c4454e1e",
   "metadata": {},
   "source": [
    "# CREATING A SIMPLE PROGRAM USING FUNCTON"
   ]
  },
  {
   "cell_type": "code",
   "execution_count": 5,
   "id": "3990645f",
   "metadata": {},
   "outputs": [
    {
     "name": "stdout",
     "output_type": "stream",
     "text": [
      "Area of the circle is 12.56\n"
     ]
    }
   ],
   "source": [
    "#Type 1, Not passing through variable\n",
    "def area_of_circle(radius):\n",
    "    print(f\"Area of the circle is {3.14*(radius**2)}\")\n",
    "    \n",
    "area_of_circle(2)"
   ]
  },
  {
   "cell_type": "code",
   "execution_count": 6,
   "id": "bc8ea926",
   "metadata": {},
   "outputs": [
    {
     "name": "stdout",
     "output_type": "stream",
     "text": [
      "Enter the radius to find the area of the circle : 2\n",
      "Area of the circle is 12.56\n"
     ]
    }
   ],
   "source": [
    "#Type 2, passing through variable\n",
    "def area_of_circle(radius):\n",
    "    print(f\"Area of the circle is {3.14*(radius**2)}\")\n",
    "    \n",
    "rad = int(input(\"Enter the radius to find the area of the circle : \"))\n",
    "\n",
    "area_of_circle(rad)"
   ]
  },
  {
   "cell_type": "code",
   "execution_count": null,
   "id": "c6c5cc74",
   "metadata": {},
   "outputs": [],
   "source": []
  }
 ],
 "metadata": {
  "kernelspec": {
   "display_name": "Python 3",
   "language": "python",
   "name": "python3"
  },
  "language_info": {
   "codemirror_mode": {
    "name": "ipython",
    "version": 3
   },
   "file_extension": ".py",
   "mimetype": "text/x-python",
   "name": "python",
   "nbconvert_exporter": "python",
   "pygments_lexer": "ipython3",
   "version": "3.8.8"
  }
 },
 "nbformat": 4,
 "nbformat_minor": 5
}
