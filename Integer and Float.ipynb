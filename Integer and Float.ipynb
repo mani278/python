{
 "cells": [
  {
   "cell_type": "markdown",
   "id": "7fd2d165",
   "metadata": {},
   "source": [
    "# Data types in python"
   ]
  },
  {
   "cell_type": "markdown",
   "id": "7c41c674",
   "metadata": {},
   "source": [
    "1. Integer\n",
    "2. Float\n",
    "3. String\n",
    "4. List\n",
    "5. Tuple\n",
    "6. Dictionary\n",
    "7. Set\n",
    "8. Complex\n",
    "9. Boolean"
   ]
  },
  {
   "cell_type": "markdown",
   "id": "9f5d17b7",
   "metadata": {},
   "source": [
    "# Integer and Float"
   ]
  },
  {
   "cell_type": "code",
   "execution_count": 1,
   "id": "be708fc2",
   "metadata": {},
   "outputs": [],
   "source": [
    "# Creating an integer\n",
    "a = 5\n",
    "b = 10"
   ]
  },
  {
   "cell_type": "code",
   "execution_count": 2,
   "id": "c3393d75",
   "metadata": {},
   "outputs": [
    {
     "name": "stdout",
     "output_type": "stream",
     "text": [
      "5\n",
      "10\n"
     ]
    }
   ],
   "source": [
    "# Checking the variable\n",
    "print(a)\n",
    "print(b)"
   ]
  },
  {
   "cell_type": "code",
   "execution_count": 3,
   "id": "ab6f8ead",
   "metadata": {},
   "outputs": [
    {
     "name": "stdout",
     "output_type": "stream",
     "text": [
      "Before modify a: 5\n",
      "After modify a: 2.4\n"
     ]
    }
   ],
   "source": [
    "# Modifiying created variable\n",
    "print(f\"Before modify a: {a}\")\n",
    "a = 2.4\n",
    "print(f\"After modify a: {a}\")"
   ]
  },
  {
   "cell_type": "code",
   "execution_count": 4,
   "id": "2cc7715b",
   "metadata": {},
   "outputs": [
    {
     "data": {
      "text/plain": [
       "10"
      ]
     },
     "execution_count": 4,
     "metadata": {},
     "output_type": "execute_result"
    }
   ],
   "source": [
    "# Assigning one variable to another variable\n",
    "c = b   # data in b is copied to c\n",
    "c"
   ]
  },
  {
   "cell_type": "markdown",
   "id": "90ba43ee",
   "metadata": {},
   "source": [
    "Basic Operations:"
   ]
  },
  {
   "cell_type": "code",
   "execution_count": 5,
   "id": "c2ecc1bb",
   "metadata": {},
   "outputs": [
    {
     "data": {
      "text/plain": [
       "12.4"
      ]
     },
     "execution_count": 5,
     "metadata": {},
     "output_type": "execute_result"
    }
   ],
   "source": [
    "d = a+b   # d = 2.4+10\n",
    "d"
   ]
  },
  {
   "cell_type": "code",
   "execution_count": 6,
   "id": "073c173f",
   "metadata": {},
   "outputs": [
    {
     "data": {
      "text/plain": [
       "-7.6"
      ]
     },
     "execution_count": 6,
     "metadata": {},
     "output_type": "execute_result"
    }
   ],
   "source": [
    "d = a-b   # d = 2.4-10  \n",
    "d"
   ]
  },
  {
   "cell_type": "code",
   "execution_count": 7,
   "id": "dfb409df",
   "metadata": {},
   "outputs": [
    {
     "data": {
      "text/plain": [
       "0.24"
      ]
     },
     "execution_count": 7,
     "metadata": {},
     "output_type": "execute_result"
    }
   ],
   "source": [
    "d = a/b   # d = 2.4/10\n",
    "d"
   ]
  },
  {
   "cell_type": "code",
   "execution_count": 8,
   "id": "3e2fa086",
   "metadata": {},
   "outputs": [
    {
     "data": {
      "text/plain": [
       "24.0"
      ]
     },
     "execution_count": 8,
     "metadata": {},
     "output_type": "execute_result"
    }
   ],
   "source": [
    "d = a*b   # d = 2.4*10\n",
    "d"
   ]
  },
  {
   "cell_type": "code",
   "execution_count": 9,
   "id": "8aa7226f",
   "metadata": {},
   "outputs": [
    {
     "data": {
      "text/plain": [
       "6340.338096537597"
      ]
     },
     "execution_count": 9,
     "metadata": {},
     "output_type": "execute_result"
    }
   ],
   "source": [
    "d = a**b   # d = 2.4^10\n",
    "d"
   ]
  },
  {
   "cell_type": "markdown",
   "id": "b30d9a61",
   "metadata": {},
   "source": [
    "Lets see some interesting features:"
   ]
  },
  {
   "cell_type": "code",
   "execution_count": 10,
   "id": "a6afbda9",
   "metadata": {},
   "outputs": [
    {
     "data": {
      "text/plain": [
       "6"
      ]
     },
     "execution_count": 10,
     "metadata": {},
     "output_type": "execute_result"
    }
   ],
   "source": [
    "a = 25\n",
    "b = 4\n",
    "# This operator is called FLOOR DIVISION. It will returns only the numerator part.\n",
    "a // b   "
   ]
  },
  {
   "cell_type": "code",
   "execution_count": 11,
   "id": "453b8425",
   "metadata": {},
   "outputs": [
    {
     "data": {
      "text/plain": [
       "1"
      ]
     },
     "execution_count": 11,
     "metadata": {},
     "output_type": "execute_result"
    }
   ],
   "source": [
    "# This operator is called MODULO OPERATOR. It will returns only the denominator part\n",
    "a % b   "
   ]
  }
 ],
 "metadata": {
  "kernelspec": {
   "display_name": "Python 3",
   "language": "python",
   "name": "python3"
  },
  "language_info": {
   "codemirror_mode": {
    "name": "ipython",
    "version": 3
   },
   "file_extension": ".py",
   "mimetype": "text/x-python",
   "name": "python",
   "nbconvert_exporter": "python",
   "pygments_lexer": "ipython3",
   "version": "3.8.8"
  }
 },
 "nbformat": 4,
 "nbformat_minor": 5
}
