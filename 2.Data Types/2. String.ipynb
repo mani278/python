{
 "cells": [
  {
   "cell_type": "markdown",
   "id": "a3366e8a",
   "metadata": {},
   "source": [
    "# STRING"
   ]
  },
  {
   "cell_type": "markdown",
   "id": "5f55b107",
   "metadata": {},
   "source": [
    "Creating String:"
   ]
  },
  {
   "cell_type": "code",
   "execution_count": 1,
   "id": "9f717b43",
   "metadata": {},
   "outputs": [],
   "source": [
    "s = \"This is a string\""
   ]
  },
  {
   "cell_type": "code",
   "execution_count": 2,
   "id": "4b986d63",
   "metadata": {},
   "outputs": [
    {
     "data": {
      "text/plain": [
       "str"
      ]
     },
     "execution_count": 2,
     "metadata": {},
     "output_type": "execute_result"
    }
   ],
   "source": [
    "type(s)"
   ]
  },
  {
   "cell_type": "markdown",
   "id": "c4685ee7",
   "metadata": {},
   "source": [
    "# Indexing:"
   ]
  },
  {
   "cell_type": "markdown",
   "id": "cf7cac2e",
   "metadata": {},
   "source": [
    "Index Strats from 0"
   ]
  },
  {
   "cell_type": "code",
   "execution_count": 3,
   "id": "c5c10cd1",
   "metadata": {
    "scrolled": true
   },
   "outputs": [
    {
     "data": {
      "text/plain": [
       "'i'"
      ]
     },
     "execution_count": 3,
     "metadata": {},
     "output_type": "execute_result"
    }
   ],
   "source": [
    "s[2]   # Returns the 3nd letter"
   ]
  },
  {
   "cell_type": "code",
   "execution_count": 4,
   "id": "9c96a32d",
   "metadata": {},
   "outputs": [
    {
     "data": {
      "text/plain": [
       "'a'"
      ]
     },
     "execution_count": 4,
     "metadata": {},
     "output_type": "execute_result"
    }
   ],
   "source": [
    "s[8]   # Returns the 9th letter"
   ]
  },
  {
   "cell_type": "markdown",
   "id": "3bed9f45",
   "metadata": {},
   "source": [
    "Negative indexing:"
   ]
  },
  {
   "cell_type": "code",
   "execution_count": 5,
   "id": "132b51dd",
   "metadata": {},
   "outputs": [
    {
     "data": {
      "text/plain": [
       "'g'"
      ]
     },
     "execution_count": 5,
     "metadata": {},
     "output_type": "execute_result"
    }
   ],
   "source": [
    "s[-1]   # Returns the last letter"
   ]
  },
  {
   "cell_type": "code",
   "execution_count": 6,
   "id": "2d51f367",
   "metadata": {},
   "outputs": [
    {
     "data": {
      "text/plain": [
       "'i'"
      ]
     },
     "execution_count": 6,
     "metadata": {},
     "output_type": "execute_result"
    }
   ],
   "source": [
    "s[-3]   # Returns the 3rd last letter"
   ]
  },
  {
   "cell_type": "markdown",
   "id": "0bb01766",
   "metadata": {},
   "source": [
    "# Index Slicing:"
   ]
  },
  {
   "cell_type": "markdown",
   "id": "0f2a1305",
   "metadata": {},
   "source": [
    "syntax : var_name[start:stop:step]"
   ]
  },
  {
   "cell_type": "code",
   "execution_count": 7,
   "id": "7d1db8f6",
   "metadata": {},
   "outputs": [
    {
     "data": {
      "text/plain": [
       "'is '"
      ]
     },
     "execution_count": 7,
     "metadata": {},
     "output_type": "execute_result"
    }
   ],
   "source": [
    "s[2:5]   # Returns from 3rd to 5th letter. Last letter is skipped."
   ]
  },
  {
   "cell_type": "code",
   "execution_count": 8,
   "id": "6c338da0",
   "metadata": {},
   "outputs": [
    {
     "data": {
      "text/plain": [
       "'This is a s'"
      ]
     },
     "execution_count": 8,
     "metadata": {},
     "output_type": "execute_result"
    }
   ],
   "source": [
    "s[0:11]   # Returns from 1th to 10th letter"
   ]
  },
  {
   "cell_type": "code",
   "execution_count": 9,
   "id": "0f7dc4eb",
   "metadata": {},
   "outputs": [
    {
     "data": {
      "text/plain": [
       "'Ti s'"
      ]
     },
     "execution_count": 9,
     "metadata": {},
     "output_type": "execute_result"
    }
   ],
   "source": [
    "s[0:7:2]   # Prints 1,3,5,7 letters"
   ]
  },
  {
   "cell_type": "code",
   "execution_count": 10,
   "id": "534292a7",
   "metadata": {},
   "outputs": [
    {
     "data": {
      "text/plain": [
       "'iss'"
      ]
     },
     "execution_count": 10,
     "metadata": {},
     "output_type": "execute_result"
    }
   ],
   "source": [
    "s[2:12:4]   # Prints 3,7,11 letters"
   ]
  },
  {
   "cell_type": "code",
   "execution_count": 11,
   "id": "ec750c31",
   "metadata": {},
   "outputs": [
    {
     "data": {
      "text/plain": [
       "'This is a string'"
      ]
     },
     "execution_count": 11,
     "metadata": {},
     "output_type": "execute_result"
    }
   ],
   "source": [
    "s[:]   # Prints the string"
   ]
  },
  {
   "cell_type": "code",
   "execution_count": 12,
   "id": "c659263e",
   "metadata": {},
   "outputs": [
    {
     "data": {
      "text/plain": [
       "'gnirts a si sihT'"
      ]
     },
     "execution_count": 12,
     "metadata": {},
     "output_type": "execute_result"
    }
   ],
   "source": [
    "s[::-1]   # Prints the string in reverse order. SPECIAL METHOD"
   ]
  },
  {
   "cell_type": "markdown",
   "id": "13a2b199",
   "metadata": {},
   "source": [
    "# Methods in Stirng"
   ]
  },
  {
   "cell_type": "code",
   "execution_count": 13,
   "id": "16cbd6cd",
   "metadata": {},
   "outputs": [],
   "source": [
    "s = \"hello world\""
   ]
  },
  {
   "cell_type": "code",
   "execution_count": 14,
   "id": "4a07c960",
   "metadata": {},
   "outputs": [
    {
     "data": {
      "text/plain": [
       "['hello', 'world']"
      ]
     },
     "execution_count": 14,
     "metadata": {},
     "output_type": "execute_result"
    }
   ],
   "source": [
    "s.split() # Splits the words in the stirng"
   ]
  },
  {
   "cell_type": "code",
   "execution_count": 15,
   "id": "88e816d5",
   "metadata": {},
   "outputs": [
    {
     "data": {
      "text/plain": [
       "['hell', ' w', 'rld']"
      ]
     },
     "execution_count": 15,
     "metadata": {},
     "output_type": "execute_result"
    }
   ],
   "source": [
    "s.split(\"o\") # Splits the string when \"o\" occurs"
   ]
  },
  {
   "cell_type": "code",
   "execution_count": 16,
   "id": "fdc86044",
   "metadata": {},
   "outputs": [
    {
     "data": {
      "text/plain": [
       "'Hello world'"
      ]
     },
     "execution_count": 16,
     "metadata": {},
     "output_type": "execute_result"
    }
   ],
   "source": [
    "s.capitalize()   # Capitalize the first letter"
   ]
  },
  {
   "cell_type": "code",
   "execution_count": 17,
   "id": "161e9352",
   "metadata": {},
   "outputs": [
    {
     "data": {
      "text/plain": [
       "'Hello World'"
      ]
     },
     "execution_count": 17,
     "metadata": {},
     "output_type": "execute_result"
    }
   ],
   "source": [
    "s.title()   # Capitalize first and every letter after space"
   ]
  },
  {
   "cell_type": "code",
   "execution_count": 18,
   "id": "df8735b0",
   "metadata": {},
   "outputs": [
    {
     "data": {
      "text/plain": [
       "2"
      ]
     },
     "execution_count": 18,
     "metadata": {},
     "output_type": "execute_result"
    }
   ],
   "source": [
    "s.count(\"o\")   # Prints the counted number for the letter passed  "
   ]
  },
  {
   "cell_type": "code",
   "execution_count": 19,
   "id": "a3872e3c",
   "metadata": {},
   "outputs": [
    {
     "data": {
      "text/plain": [
       "1"
      ]
     },
     "execution_count": 19,
     "metadata": {},
     "output_type": "execute_result"
    }
   ],
   "source": [
    "s.count(\"he\")"
   ]
  },
  {
   "cell_type": "code",
   "execution_count": 20,
   "id": "3b7a6ec2",
   "metadata": {},
   "outputs": [
    {
     "data": {
      "text/plain": [
       "1"
      ]
     },
     "execution_count": 20,
     "metadata": {},
     "output_type": "execute_result"
    }
   ],
   "source": [
    "s.count(\"rl\")"
   ]
  },
  {
   "cell_type": "code",
   "execution_count": 21,
   "id": "7df1baf0",
   "metadata": {},
   "outputs": [
    {
     "name": "stdout",
     "output_type": "stream",
     "text": [
      " hello world \n"
     ]
    }
   ],
   "source": [
    "a = s.center(13)   # Center the word and returns.\n",
    "print(a)"
   ]
  },
  {
   "cell_type": "code",
   "execution_count": 22,
   "id": "36e15991",
   "metadata": {},
   "outputs": [
    {
     "name": "stdout",
     "output_type": "stream",
     "text": [
      "hello world\n"
     ]
    }
   ],
   "source": [
    "s = \"HELLo woRLd\"\n",
    "a = s.casefold()    # Converts all letters to lowercase\n",
    "print(a)"
   ]
  },
  {
   "cell_type": "code",
   "execution_count": 23,
   "id": "e4085f0f",
   "metadata": {},
   "outputs": [
    {
     "name": "stdout",
     "output_type": "stream",
     "text": [
      "hello world\n"
     ]
    }
   ],
   "source": [
    "s = \"HELLo woRLd\" \n",
    "a = s.lower()   # Converts all letters to lowercase\n",
    "print(a)"
   ]
  },
  {
   "cell_type": "code",
   "execution_count": 24,
   "id": "341966e9",
   "metadata": {},
   "outputs": [
    {
     "data": {
      "text/plain": [
       "'HELLo woRLd'"
      ]
     },
     "execution_count": 24,
     "metadata": {},
     "output_type": "execute_result"
    }
   ],
   "source": [
    "s"
   ]
  },
  {
   "cell_type": "code",
   "execution_count": 25,
   "id": "21563297",
   "metadata": {},
   "outputs": [
    {
     "data": {
      "text/plain": [
       "True"
      ]
     },
     "execution_count": 25,
     "metadata": {},
     "output_type": "execute_result"
    }
   ],
   "source": [
    "s.endswith(\"d\")   # Retruns a boolean TRUE, if the letter passed is a last letter in the string"
   ]
  },
  {
   "cell_type": "code",
   "execution_count": 26,
   "id": "6fb651f3",
   "metadata": {},
   "outputs": [
    {
     "data": {
      "text/plain": [
       "False"
      ]
     },
     "execution_count": 26,
     "metadata": {},
     "output_type": "execute_result"
    }
   ],
   "source": [
    "s.endswith(\"e\")"
   ]
  },
  {
   "cell_type": "code",
   "execution_count": 27,
   "id": "26af465d",
   "metadata": {},
   "outputs": [
    {
     "data": {
      "text/plain": [
       "'HELLo woRLd'"
      ]
     },
     "execution_count": 27,
     "metadata": {},
     "output_type": "execute_result"
    }
   ],
   "source": [
    "s"
   ]
  },
  {
   "cell_type": "code",
   "execution_count": 28,
   "id": "95b4932c",
   "metadata": {},
   "outputs": [
    {
     "data": {
      "text/plain": [
       "4"
      ]
     },
     "execution_count": 28,
     "metadata": {},
     "output_type": "execute_result"
    }
   ],
   "source": [
    "s.find(\"o\")   # Returns the index of the letter passed. Only returns the first letter index in the string"
   ]
  },
  {
   "cell_type": "code",
   "execution_count": 29,
   "id": "75171436",
   "metadata": {},
   "outputs": [
    {
     "data": {
      "text/plain": [
       "7"
      ]
     },
     "execution_count": 29,
     "metadata": {},
     "output_type": "execute_result"
    }
   ],
   "source": [
    "s.find(\"oR\")"
   ]
  },
  {
   "cell_type": "code",
   "execution_count": 30,
   "id": "c305c0c1",
   "metadata": {},
   "outputs": [
    {
     "data": {
      "text/plain": [
       "4"
      ]
     },
     "execution_count": 30,
     "metadata": {},
     "output_type": "execute_result"
    }
   ],
   "source": [
    "s.index(\"o\")   # Same as find"
   ]
  },
  {
   "cell_type": "code",
   "execution_count": 31,
   "id": "e39d3429",
   "metadata": {},
   "outputs": [
    {
     "data": {
      "text/plain": [
       "7"
      ]
     },
     "execution_count": 31,
     "metadata": {},
     "output_type": "execute_result"
    }
   ],
   "source": [
    "s.index(\"oR\")"
   ]
  },
  {
   "cell_type": "code",
   "execution_count": 32,
   "id": "b608ce7c",
   "metadata": {},
   "outputs": [
    {
     "data": {
      "text/plain": [
       "'HELLo woRLd'"
      ]
     },
     "execution_count": 32,
     "metadata": {},
     "output_type": "execute_result"
    }
   ],
   "source": [
    "s"
   ]
  },
  {
   "cell_type": "code",
   "execution_count": 33,
   "id": "d838f6f0",
   "metadata": {},
   "outputs": [
    {
     "data": {
      "text/plain": [
       "False"
      ]
     },
     "execution_count": 33,
     "metadata": {},
     "output_type": "execute_result"
    }
   ],
   "source": [
    "s.isalpha()  # isalpha() returns TRUE if string contains only word. In s their is a space so it returns FALSE"
   ]
  },
  {
   "cell_type": "code",
   "execution_count": 34,
   "id": "62f7a219",
   "metadata": {},
   "outputs": [],
   "source": [
    "s = \"helloworld.\""
   ]
  },
  {
   "cell_type": "code",
   "execution_count": 35,
   "id": "d81a5d9a",
   "metadata": {},
   "outputs": [
    {
     "data": {
      "text/plain": [
       "False"
      ]
     },
     "execution_count": 35,
     "metadata": {},
     "output_type": "execute_result"
    }
   ],
   "source": [
    "s.isalpha()  # Returns FALSE since their is no .(fullstop) at the end"
   ]
  },
  {
   "cell_type": "code",
   "execution_count": 36,
   "id": "955afd51",
   "metadata": {},
   "outputs": [],
   "source": [
    "s = \"helloworld\""
   ]
  },
  {
   "cell_type": "code",
   "execution_count": 37,
   "id": "86debe3d",
   "metadata": {},
   "outputs": [
    {
     "data": {
      "text/plain": [
       "True"
      ]
     },
     "execution_count": 37,
     "metadata": {},
     "output_type": "execute_result"
    }
   ],
   "source": [
    "s.isalpha()"
   ]
  },
  {
   "cell_type": "code",
   "execution_count": 38,
   "id": "eb12da3a",
   "metadata": {},
   "outputs": [],
   "source": [
    "s = \"hello0658\""
   ]
  },
  {
   "cell_type": "code",
   "execution_count": 39,
   "id": "9051ac9b",
   "metadata": {},
   "outputs": [
    {
     "data": {
      "text/plain": [
       "True"
      ]
     },
     "execution_count": 39,
     "metadata": {},
     "output_type": "execute_result"
    }
   ],
   "source": [
    "s.isalnum() # Returns TRUE if string contains only letters or only numbers or letters and numbers"
   ]
  },
  {
   "cell_type": "code",
   "execution_count": null,
   "id": "5315b8d7",
   "metadata": {},
   "outputs": [],
   "source": []
  }
 ],
 "metadata": {
  "kernelspec": {
   "display_name": "Python 3",
   "language": "python",
   "name": "python3"
  },
  "language_info": {
   "codemirror_mode": {
    "name": "ipython",
    "version": 3
   },
   "file_extension": ".py",
   "mimetype": "text/x-python",
   "name": "python",
   "nbconvert_exporter": "python",
   "pygments_lexer": "ipython3",
   "version": "3.8.8"
  }
 },
 "nbformat": 4,
 "nbformat_minor": 5
}
