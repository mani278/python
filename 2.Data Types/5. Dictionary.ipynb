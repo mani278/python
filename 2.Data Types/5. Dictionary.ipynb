{
 "cells": [
  {
   "cell_type": "markdown",
   "id": "60ddb961",
   "metadata": {},
   "source": [
    "# DICTIONARY"
   ]
  },
  {
   "cell_type": "markdown",
   "id": "e8e6dfd3",
   "metadata": {},
   "source": [
    "Creating Dictionary:"
   ]
  },
  {
   "cell_type": "markdown",
   "id": "ebaa074f",
   "metadata": {},
   "source": [
    "Dictionary contains a combination of key and its value:\n",
    "\n",
    "syntax:\n",
    "var_name = {\"key\":value}\n",
    "\n",
    "The key and value may be a string or a number."
   ]
  },
  {
   "cell_type": "code",
   "execution_count": 1,
   "id": "bcc7ba6c",
   "metadata": {},
   "outputs": [],
   "source": [
    "dict1 = {\"Apple\":100, \"Orange\":80, \"Banana\":150, 1:\"h\", \"Hello\":\"World\"}"
   ]
  },
  {
   "cell_type": "code",
   "execution_count": 2,
   "id": "b9658c2b",
   "metadata": {},
   "outputs": [
    {
     "data": {
      "text/plain": [
       "dict"
      ]
     },
     "execution_count": 2,
     "metadata": {},
     "output_type": "execute_result"
    }
   ],
   "source": [
    "type(dict1)"
   ]
  },
  {
   "cell_type": "markdown",
   "id": "475576ec",
   "metadata": {},
   "source": [
    "# Printing value using key:"
   ]
  },
  {
   "cell_type": "markdown",
   "id": "8c9d6895",
   "metadata": {},
   "source": [
    "Dictionary can be indexed only by the key name."
   ]
  },
  {
   "cell_type": "code",
   "execution_count": 3,
   "id": "d013e649",
   "metadata": {},
   "outputs": [
    {
     "data": {
      "text/plain": [
       "100"
      ]
     },
     "execution_count": 3,
     "metadata": {},
     "output_type": "execute_result"
    }
   ],
   "source": [
    "dict1[\"Apple\"]"
   ]
  },
  {
   "cell_type": "code",
   "execution_count": 4,
   "id": "682dbd5b",
   "metadata": {},
   "outputs": [
    {
     "data": {
      "text/plain": [
       "'h'"
      ]
     },
     "execution_count": 4,
     "metadata": {},
     "output_type": "execute_result"
    }
   ],
   "source": [
    "dict1[1]"
   ]
  },
  {
   "cell_type": "code",
   "execution_count": 5,
   "id": "492ccb86",
   "metadata": {},
   "outputs": [
    {
     "data": {
      "text/plain": [
       "'World'"
      ]
     },
     "execution_count": 5,
     "metadata": {},
     "output_type": "execute_result"
    }
   ],
   "source": [
    "dict1[\"Hello\"]"
   ]
  },
  {
   "cell_type": "markdown",
   "id": "2ce7a019",
   "metadata": {},
   "source": [
    "# Dictionary value indexing:"
   ]
  },
  {
   "cell_type": "markdown",
   "id": "804b1add",
   "metadata": {},
   "source": [
    "Value can be indexed by the list indexing method:"
   ]
  },
  {
   "cell_type": "code",
   "execution_count": 6,
   "id": "2b83e9a6",
   "metadata": {},
   "outputs": [],
   "source": [
    "dict2 = {\"Hello\":\"World\", 7:\"Seven\", 124:[\"One\",\"Two\",\"Four\"], \"Hundred\":100}"
   ]
  },
  {
   "cell_type": "code",
   "execution_count": 7,
   "id": "01e61e4e",
   "metadata": {},
   "outputs": [
    {
     "data": {
      "text/plain": [
       "'Seven'"
      ]
     },
     "execution_count": 7,
     "metadata": {},
     "output_type": "execute_result"
    }
   ],
   "source": [
    "dict2[7]"
   ]
  },
  {
   "cell_type": "code",
   "execution_count": 8,
   "id": "43e2c9f6",
   "metadata": {},
   "outputs": [
    {
     "data": {
      "text/plain": [
       "['One', 'Two', 'Four']"
      ]
     },
     "execution_count": 8,
     "metadata": {},
     "output_type": "execute_result"
    }
   ],
   "source": [
    "dict2[124]"
   ]
  },
  {
   "cell_type": "code",
   "execution_count": 9,
   "id": "486b5015",
   "metadata": {},
   "outputs": [
    {
     "data": {
      "text/plain": [
       "'Four'"
      ]
     },
     "execution_count": 9,
     "metadata": {},
     "output_type": "execute_result"
    }
   ],
   "source": [
    "dict2[124][2]         # Prints the 2nd index value in 124 key"
   ]
  },
  {
   "cell_type": "markdown",
   "id": "1323a0e1",
   "metadata": {},
   "source": [
    "# Working with duplicate key"
   ]
  },
  {
   "cell_type": "code",
   "execution_count": 10,
   "id": "bc12b66a",
   "metadata": {},
   "outputs": [],
   "source": [
    "dict3 = {2:\"Two\", 10:\"Ten\", 10:\"Tens\", \"Fruits\":\"Orange\", \"Fruits\":\"Apple\"}"
   ]
  },
  {
   "cell_type": "code",
   "execution_count": 11,
   "id": "7058d64c",
   "metadata": {},
   "outputs": [
    {
     "data": {
      "text/plain": [
       "'Apple'"
      ]
     },
     "execution_count": 11,
     "metadata": {},
     "output_type": "execute_result"
    }
   ],
   "source": [
    "dict3[\"Fruits\"]       # Prints the latest updated key value"
   ]
  },
  {
   "cell_type": "code",
   "execution_count": 12,
   "id": "db20c9cf",
   "metadata": {},
   "outputs": [
    {
     "data": {
      "text/plain": [
       "'Tens'"
      ]
     },
     "execution_count": 12,
     "metadata": {},
     "output_type": "execute_result"
    }
   ],
   "source": [
    "dict3[10]             # Prints the latest updated key value"
   ]
  },
  {
   "cell_type": "code",
   "execution_count": 13,
   "id": "e491b333",
   "metadata": {},
   "outputs": [
    {
     "name": "stdout",
     "output_type": "stream",
     "text": [
      "5\n",
      "4\n",
      "3\n"
     ]
    }
   ],
   "source": [
    "print(len(dict1))\n",
    "print(len(dict2))\n",
    "print(len(dict3))  # dict3 only returns 3 because duplictes are not considered are not allowed"
   ]
  },
  {
   "cell_type": "markdown",
   "id": "75a14203",
   "metadata": {},
   "source": [
    "# Accessing items"
   ]
  },
  {
   "cell_type": "code",
   "execution_count": 14,
   "id": "4d64c22a",
   "metadata": {},
   "outputs": [
    {
     "data": {
      "text/plain": [
       "dict_keys(['Apple', 'Orange', 'Banana', 1, 'Hello'])"
      ]
     },
     "execution_count": 14,
     "metadata": {},
     "output_type": "execute_result"
    }
   ],
   "source": [
    "dict1.keys()      # Getting keys"
   ]
  },
  {
   "cell_type": "code",
   "execution_count": 15,
   "id": "850110c9",
   "metadata": {},
   "outputs": [
    {
     "data": {
      "text/plain": [
       "dict_values([100, 80, 150, 'h', 'World'])"
      ]
     },
     "execution_count": 15,
     "metadata": {},
     "output_type": "execute_result"
    }
   ],
   "source": [
    "dict1.values()    # Getting values"
   ]
  },
  {
   "cell_type": "code",
   "execution_count": 16,
   "id": "abc0368a",
   "metadata": {},
   "outputs": [
    {
     "data": {
      "text/plain": [
       "dict_keys(['Hello', 7, 124, 'Hundred'])"
      ]
     },
     "execution_count": 16,
     "metadata": {},
     "output_type": "execute_result"
    }
   ],
   "source": [
    "dict2.keys()"
   ]
  },
  {
   "cell_type": "code",
   "execution_count": 17,
   "id": "449c3ef8",
   "metadata": {},
   "outputs": [
    {
     "data": {
      "text/plain": [
       "dict_values(['World', 'Seven', ['One', 'Two', 'Four'], 100])"
      ]
     },
     "execution_count": 17,
     "metadata": {},
     "output_type": "execute_result"
    }
   ],
   "source": [
    "dict2.values()"
   ]
  },
  {
   "cell_type": "markdown",
   "id": "05e0afd1",
   "metadata": {},
   "source": [
    "Adding a new item:"
   ]
  },
  {
   "cell_type": "code",
   "execution_count": 18,
   "id": "9fe895d6",
   "metadata": {},
   "outputs": [
    {
     "data": {
      "text/plain": [
       "{'Hello': 'World', 7: 'Seven', 124: ['One', 'Two', 'Four'], 'Hundred': 100}"
      ]
     },
     "execution_count": 18,
     "metadata": {},
     "output_type": "execute_result"
    }
   ],
   "source": [
    "dict2"
   ]
  },
  {
   "cell_type": "code",
   "execution_count": 19,
   "id": "1b162c96",
   "metadata": {},
   "outputs": [],
   "source": [
    "dict2[\"Animal\"] = \"Lion\"    # Adding a item"
   ]
  },
  {
   "cell_type": "code",
   "execution_count": 20,
   "id": "ded0c92f",
   "metadata": {},
   "outputs": [
    {
     "data": {
      "text/plain": [
       "{'Hello': 'World',\n",
       " 7: 'Seven',\n",
       " 124: ['One', 'Two', 'Four'],\n",
       " 'Hundred': 100,\n",
       " 'Animal': 'Lion'}"
      ]
     },
     "execution_count": 20,
     "metadata": {},
     "output_type": "execute_result"
    }
   ],
   "source": [
    "dict2"
   ]
  },
  {
   "cell_type": "markdown",
   "id": "fa0474fb",
   "metadata": {},
   "source": [
    "Changing the value of a key:"
   ]
  },
  {
   "cell_type": "code",
   "execution_count": 21,
   "id": "6ada6975",
   "metadata": {},
   "outputs": [],
   "source": [
    "dict2[\"Animal\"] = \"Tiger\""
   ]
  },
  {
   "cell_type": "code",
   "execution_count": 22,
   "id": "a7a5dad1",
   "metadata": {},
   "outputs": [
    {
     "data": {
      "text/plain": [
       "{'Hello': 'World',\n",
       " 7: 'Seven',\n",
       " 124: ['One', 'Two', 'Four'],\n",
       " 'Hundred': 100,\n",
       " 'Animal': 'Tiger'}"
      ]
     },
     "execution_count": 22,
     "metadata": {},
     "output_type": "execute_result"
    }
   ],
   "source": [
    "dict2"
   ]
  },
  {
   "cell_type": "markdown",
   "id": "c22e25b0",
   "metadata": {},
   "source": [
    "Check key is available"
   ]
  },
  {
   "cell_type": "code",
   "execution_count": 23,
   "id": "4f381aed",
   "metadata": {},
   "outputs": [
    {
     "name": "stdout",
     "output_type": "stream",
     "text": [
      "Key name 124 is Available\n"
     ]
    }
   ],
   "source": [
    "key = 124\n",
    "if key in dict2:\n",
    "    print(\"Key name\",key,\"is Available\")"
   ]
  },
  {
   "cell_type": "markdown",
   "id": "3c435eee",
   "metadata": {},
   "source": [
    "Removing items:"
   ]
  },
  {
   "cell_type": "code",
   "execution_count": 24,
   "id": "35024787",
   "metadata": {},
   "outputs": [
    {
     "data": {
      "text/plain": [
       "{'Hello': 'World',\n",
       " 7: 'Seven',\n",
       " 124: ['One', 'Two', 'Four'],\n",
       " 'Hundred': 100,\n",
       " 'Animal': 'Tiger'}"
      ]
     },
     "execution_count": 24,
     "metadata": {},
     "output_type": "execute_result"
    }
   ],
   "source": [
    "dict2"
   ]
  },
  {
   "cell_type": "code",
   "execution_count": 25,
   "id": "d72e510e",
   "metadata": {},
   "outputs": [
    {
     "data": {
      "text/plain": [
       "('Animal', 'Tiger')"
      ]
     },
     "execution_count": 25,
     "metadata": {},
     "output_type": "execute_result"
    }
   ],
   "source": [
    "dict2.popitem()    # Removes the last item"
   ]
  },
  {
   "cell_type": "code",
   "execution_count": 26,
   "id": "4e0d86fe",
   "metadata": {},
   "outputs": [
    {
     "data": {
      "text/plain": [
       "{'Hello': 'World', 7: 'Seven', 124: ['One', 'Two', 'Four'], 'Hundred': 100}"
      ]
     },
     "execution_count": 26,
     "metadata": {},
     "output_type": "execute_result"
    }
   ],
   "source": [
    "dict2"
   ]
  },
  {
   "cell_type": "code",
   "execution_count": 27,
   "id": "54043d46",
   "metadata": {},
   "outputs": [
    {
     "data": {
      "text/plain": [
       "('Hundred', 100)"
      ]
     },
     "execution_count": 27,
     "metadata": {},
     "output_type": "execute_result"
    }
   ],
   "source": [
    "dict2.popitem()"
   ]
  },
  {
   "cell_type": "code",
   "execution_count": 28,
   "id": "789d835e",
   "metadata": {},
   "outputs": [
    {
     "data": {
      "text/plain": [
       "{'Hello': 'World', 7: 'Seven', 124: ['One', 'Two', 'Four']}"
      ]
     },
     "execution_count": 28,
     "metadata": {},
     "output_type": "execute_result"
    }
   ],
   "source": [
    "dict2"
   ]
  },
  {
   "cell_type": "markdown",
   "id": "d60f5b4a",
   "metadata": {},
   "source": [
    "Removing a specific item:"
   ]
  },
  {
   "cell_type": "code",
   "execution_count": 29,
   "id": "23fd72e2",
   "metadata": {},
   "outputs": [
    {
     "data": {
      "text/plain": [
       "{'Apple': 100, 'Orange': 80, 'Banana': 150, 1: 'h', 'Hello': 'World'}"
      ]
     },
     "execution_count": 29,
     "metadata": {},
     "output_type": "execute_result"
    }
   ],
   "source": [
    "dict1"
   ]
  },
  {
   "cell_type": "code",
   "execution_count": 30,
   "id": "eacba5e6",
   "metadata": {},
   "outputs": [
    {
     "data": {
      "text/plain": [
       "80"
      ]
     },
     "execution_count": 30,
     "metadata": {},
     "output_type": "execute_result"
    }
   ],
   "source": [
    "dict1.pop(\"Orange\")"
   ]
  },
  {
   "cell_type": "code",
   "execution_count": 31,
   "id": "30a3f377",
   "metadata": {},
   "outputs": [
    {
     "data": {
      "text/plain": [
       "{'Apple': 100, 'Banana': 150, 1: 'h', 'Hello': 'World'}"
      ]
     },
     "execution_count": 31,
     "metadata": {},
     "output_type": "execute_result"
    }
   ],
   "source": [
    "dict1"
   ]
  },
  {
   "cell_type": "code",
   "execution_count": 32,
   "id": "5884d690",
   "metadata": {},
   "outputs": [],
   "source": [
    "del dict1[1]"
   ]
  },
  {
   "cell_type": "code",
   "execution_count": 33,
   "id": "b2ed385f",
   "metadata": {},
   "outputs": [
    {
     "data": {
      "text/plain": [
       "{'Apple': 100, 'Banana': 150, 'Hello': 'World'}"
      ]
     },
     "execution_count": 33,
     "metadata": {},
     "output_type": "execute_result"
    }
   ],
   "source": [
    "dict1"
   ]
  },
  {
   "cell_type": "code",
   "execution_count": 34,
   "id": "bfaccebe",
   "metadata": {},
   "outputs": [],
   "source": [
    "dict1.clear()      # Deletes all the items"
   ]
  },
  {
   "cell_type": "code",
   "execution_count": 35,
   "id": "9ebd4724",
   "metadata": {},
   "outputs": [
    {
     "data": {
      "text/plain": [
       "{}"
      ]
     },
     "execution_count": 35,
     "metadata": {},
     "output_type": "execute_result"
    }
   ],
   "source": [
    "dict1"
   ]
  },
  {
   "cell_type": "code",
   "execution_count": 36,
   "id": "01c38a38",
   "metadata": {},
   "outputs": [],
   "source": [
    "del dict1          # Removes the dictionary"
   ]
  },
  {
   "cell_type": "code",
   "execution_count": 37,
   "id": "39cd3e6e",
   "metadata": {},
   "outputs": [
    {
     "ename": "NameError",
     "evalue": "name 'dict1' is not defined",
     "output_type": "error",
     "traceback": [
      "\u001b[1;31m---------------------------------------------------------------------------\u001b[0m",
      "\u001b[1;31mNameError\u001b[0m                                 Traceback (most recent call last)",
      "\u001b[1;32m<ipython-input-37-e36219336d90>\u001b[0m in \u001b[0;36m<module>\u001b[1;34m\u001b[0m\n\u001b[1;32m----> 1\u001b[1;33m \u001b[0mdict1\u001b[0m\u001b[1;33m\u001b[0m\u001b[1;33m\u001b[0m\u001b[0m\n\u001b[0m",
      "\u001b[1;31mNameError\u001b[0m: name 'dict1' is not defined"
     ]
    }
   ],
   "source": [
    "dict1"
   ]
  },
  {
   "cell_type": "code",
   "execution_count": null,
   "id": "3a342a3e",
   "metadata": {},
   "outputs": [],
   "source": []
  }
 ],
 "metadata": {
  "kernelspec": {
   "display_name": "Python 3",
   "language": "python",
   "name": "python3"
  },
  "language_info": {
   "codemirror_mode": {
    "name": "ipython",
    "version": 3
   },
   "file_extension": ".py",
   "mimetype": "text/x-python",
   "name": "python",
   "nbconvert_exporter": "python",
   "pygments_lexer": "ipython3",
   "version": "3.8.8"
  }
 },
 "nbformat": 4,
 "nbformat_minor": 5
}
