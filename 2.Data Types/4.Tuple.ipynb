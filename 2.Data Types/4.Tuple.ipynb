{
 "cells": [
  {
   "cell_type": "markdown",
   "id": "79a645c5",
   "metadata": {},
   "source": [
    "# TUPLE"
   ]
  },
  {
   "cell_type": "markdown",
   "id": "9e63830c",
   "metadata": {},
   "source": [
    "Creating Tuple:"
   ]
  },
  {
   "cell_type": "markdown",
   "id": "5f15241b",
   "metadata": {},
   "source": [
    "TUPLE is same like LIST. But the diffrence between them is LIST IS MUTABLE(CHANGE) but TUPLE IS IMMUTABLE(NON-CHANGE)"
   ]
  },
  {
   "cell_type": "code",
   "execution_count": 1,
   "id": "406cc0ba",
   "metadata": {},
   "outputs": [],
   "source": [
    "num_tup = (1,2,2,3,3,3,3)\n",
    "str_tup = (\"Hello\",\"World\")\n",
    "tup = (1,2,3,4,\"Tuple\")"
   ]
  },
  {
   "cell_type": "markdown",
   "id": "40d1a455",
   "metadata": {},
   "source": [
    "# Methods in Tuple:"
   ]
  },
  {
   "cell_type": "code",
   "execution_count": 2,
   "id": "16d3854e",
   "metadata": {},
   "outputs": [
    {
     "name": "stdout",
     "output_type": "stream",
     "text": [
      "4\n",
      "1\n",
      "1\n"
     ]
    }
   ],
   "source": [
    "print(num_tup.count(3))\n",
    "print(str_tup.count(\"Hello\"))  # Counts the values in the Tuple\n",
    "print(tup.count(3))"
   ]
  },
  {
   "cell_type": "code",
   "execution_count": 3,
   "id": "8c9e96db",
   "metadata": {},
   "outputs": [
    {
     "name": "stdout",
     "output_type": "stream",
     "text": [
      "1\n",
      "0\n",
      "4\n"
     ]
    }
   ],
   "source": [
    "print(num_tup.index(2))        # Index starts from 0\n",
    "print(str_tup.index(\"Hello\"))  # Prints where the value is placed in the Tuple\n",
    "print(tup.index(\"Tuple\"))      # Prints the first values index if there is more than one"
   ]
  },
  {
   "cell_type": "code",
   "execution_count": null,
   "id": "51d3b191",
   "metadata": {},
   "outputs": [],
   "source": []
  }
 ],
 "metadata": {
  "kernelspec": {
   "display_name": "Python 3",
   "language": "python",
   "name": "python3"
  },
  "language_info": {
   "codemirror_mode": {
    "name": "ipython",
    "version": 3
   },
   "file_extension": ".py",
   "mimetype": "text/x-python",
   "name": "python",
   "nbconvert_exporter": "python",
   "pygments_lexer": "ipython3",
   "version": "3.8.8"
  }
 },
 "nbformat": 4,
 "nbformat_minor": 5
}
