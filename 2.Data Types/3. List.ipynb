{
 "cells": [
  {
   "cell_type": "markdown",
   "id": "4401fee4",
   "metadata": {},
   "source": [
    "# LIST"
   ]
  },
  {
   "cell_type": "markdown",
   "id": "3d95beb7",
   "metadata": {},
   "source": [
    "Creating List"
   ]
  },
  {
   "cell_type": "code",
   "execution_count": 1,
   "id": "d8f7b3ec",
   "metadata": {},
   "outputs": [],
   "source": [
    "num_lst = [1,2,3,4,5]"
   ]
  },
  {
   "cell_type": "code",
   "execution_count": 2,
   "id": "880413fb",
   "metadata": {},
   "outputs": [],
   "source": [
    "str_lst = [\"This\",\"is\",\"a\",\"list\"]"
   ]
  },
  {
   "cell_type": "code",
   "execution_count": 3,
   "id": "f89751c2",
   "metadata": {},
   "outputs": [],
   "source": [
    "lst = [1,2,3,\"list\",\"string\"]"
   ]
  },
  {
   "cell_type": "markdown",
   "id": "780b1eaf",
   "metadata": {},
   "source": [
    "# Methods in List"
   ]
  },
  {
   "cell_type": "markdown",
   "id": "0f680c22",
   "metadata": {},
   "source": [
    "Appending"
   ]
  },
  {
   "cell_type": "code",
   "execution_count": 4,
   "id": "78a31543",
   "metadata": {},
   "outputs": [
    {
     "name": "stdout",
     "output_type": "stream",
     "text": [
      "[1, 2, 'list', 'hello world']\n",
      "[1, 2, 'list', 'hello world', ['Appending list']]\n",
      "[1, 2, 'list', 'hello world', ['Appending list'], 'Append String']\n"
     ]
    }
   ],
   "source": [
    "#Method 1:\n",
    "lst_1 = [1,2,\"list\"]\n",
    "lst_1.append(\"hello world\")  # Appends \"hello world\" to the list lst_1\n",
    "print(lst_1)\n",
    "\n",
    "\n",
    "#Method 2\n",
    "lst_2 = [\"Appending list\"]  #  Appends element lst_2 to the list lst_1\n",
    "lst_1.append(lst_2)         #  New list is not created it is also a element\n",
    "print(lst_1)\n",
    "\n",
    "lst_3 = \"Append String\"    #  Appends element lst_3 to the list lst_1\n",
    "lst_1.append(lst_3)        #  Note a new list is not created inside a list\n",
    "print(lst_1)"
   ]
  },
  {
   "cell_type": "markdown",
   "id": "d84f68ad",
   "metadata": {},
   "source": [
    "Copying a list"
   ]
  },
  {
   "cell_type": "code",
   "execution_count": 5,
   "id": "f2a37806",
   "metadata": {},
   "outputs": [
    {
     "name": "stdout",
     "output_type": "stream",
     "text": [
      "[1, 2, 'list', 'hello world', ['Appending list'], 'Append String']\n"
     ]
    }
   ],
   "source": [
    "lst_4 = lst_1.copy()  #  Returns a copy of the list\n",
    "print(lst_4)"
   ]
  },
  {
   "cell_type": "markdown",
   "id": "cdd93894",
   "metadata": {},
   "source": [
    "Index"
   ]
  },
  {
   "cell_type": "code",
   "execution_count": 6,
   "id": "16c214ee",
   "metadata": {},
   "outputs": [
    {
     "data": {
      "text/plain": [
       "2"
      ]
     },
     "execution_count": 6,
     "metadata": {},
     "output_type": "execute_result"
    }
   ],
   "source": [
    "lst_1.index(\"list\")  # Returns the position (index) of the first occurrence of value"
   ]
  },
  {
   "cell_type": "code",
   "execution_count": 7,
   "id": "ee46b96f",
   "metadata": {},
   "outputs": [
    {
     "name": "stdout",
     "output_type": "stream",
     "text": [
      "[1, 2, 'inserted list', 'list', 'hello world', ['Appending list'], 'Append String']\n"
     ]
    }
   ],
   "source": [
    "lst_1.insert(2, \"inserted list\")  #  Inserts element at position (index) i in the list\n",
    "print(lst_1)"
   ]
  },
  {
   "cell_type": "markdown",
   "id": "6b4e8a7b",
   "metadata": {},
   "source": [
    "Removing a element"
   ]
  },
  {
   "cell_type": "code",
   "execution_count": 8,
   "id": "b37bb93a",
   "metadata": {},
   "outputs": [
    {
     "data": {
      "text/plain": [
       "'Append String'"
      ]
     },
     "execution_count": 8,
     "metadata": {},
     "output_type": "execute_result"
    }
   ],
   "source": [
    "lst_1.pop()  #  Removes the last value in the list"
   ]
  },
  {
   "cell_type": "code",
   "execution_count": 9,
   "id": "6e9cdbb5",
   "metadata": {},
   "outputs": [
    {
     "data": {
      "text/plain": [
       "'inserted list'"
      ]
     },
     "execution_count": 9,
     "metadata": {},
     "output_type": "execute_result"
    }
   ],
   "source": [
    "lst_1.pop(2)  #  Removes the value in the specified index"
   ]
  },
  {
   "cell_type": "code",
   "execution_count": 10,
   "id": "a30b65ef",
   "metadata": {},
   "outputs": [
    {
     "name": "stdout",
     "output_type": "stream",
     "text": [
      "[1, 2, 'list', ['Appending list']]\n"
     ]
    }
   ],
   "source": [
    "lst_1.remove(\"hello world\")  #  Removes the value specified\n",
    "print(lst_1)"
   ]
  },
  {
   "cell_type": "markdown",
   "id": "7b932cd3",
   "metadata": {},
   "source": [
    "Counting a element"
   ]
  },
  {
   "cell_type": "code",
   "execution_count": 11,
   "id": "22b997bf",
   "metadata": {},
   "outputs": [],
   "source": [
    "lst_1.append(2)"
   ]
  },
  {
   "cell_type": "code",
   "execution_count": 12,
   "id": "05ce272e",
   "metadata": {},
   "outputs": [
    {
     "data": {
      "text/plain": [
       "2"
      ]
     },
     "execution_count": 12,
     "metadata": {},
     "output_type": "execute_result"
    }
   ],
   "source": [
    "lst_1.count(2)  # Counts the number of occurences in the list"
   ]
  },
  {
   "cell_type": "markdown",
   "id": "64c91c78",
   "metadata": {},
   "source": [
    "Reversing List"
   ]
  },
  {
   "cell_type": "code",
   "execution_count": 13,
   "id": "85fa316f",
   "metadata": {},
   "outputs": [
    {
     "data": {
      "text/plain": [
       "[1, 2, 'list', ['Appending list'], 2]"
      ]
     },
     "execution_count": 13,
     "metadata": {},
     "output_type": "execute_result"
    }
   ],
   "source": [
    "lst_1"
   ]
  },
  {
   "cell_type": "code",
   "execution_count": 14,
   "id": "9426f5d0",
   "metadata": {},
   "outputs": [
    {
     "name": "stdout",
     "output_type": "stream",
     "text": [
      "[2, ['Appending list'], 'list', 2, 1]\n"
     ]
    }
   ],
   "source": [
    "lst_1.reverse()  # Reverses the order of elements in the list\n",
    "print(lst_1)"
   ]
  },
  {
   "cell_type": "markdown",
   "id": "1d29e381",
   "metadata": {},
   "source": [
    "Sorting List"
   ]
  },
  {
   "cell_type": "markdown",
   "id": "74ac9dd7",
   "metadata": {},
   "source": [
    "Sorting works when the elements are only numbers or only string:"
   ]
  },
  {
   "cell_type": "code",
   "execution_count": 15,
   "id": "de42c8ae",
   "metadata": {},
   "outputs": [
    {
     "data": {
      "text/plain": [
       "[2, ['Appending list'], 'list', 2, 1]"
      ]
     },
     "execution_count": 15,
     "metadata": {},
     "output_type": "execute_result"
    }
   ],
   "source": [
    "lst_1"
   ]
  },
  {
   "cell_type": "code",
   "execution_count": 16,
   "id": "f4e0e834",
   "metadata": {},
   "outputs": [
    {
     "ename": "TypeError",
     "evalue": "'<' not supported between instances of 'list' and 'int'",
     "output_type": "error",
     "traceback": [
      "\u001b[1;31m---------------------------------------------------------------------------\u001b[0m",
      "\u001b[1;31mTypeError\u001b[0m                                 Traceback (most recent call last)",
      "\u001b[1;32m<ipython-input-16-6689e203a31d>\u001b[0m in \u001b[0;36m<module>\u001b[1;34m\u001b[0m\n\u001b[1;32m----> 1\u001b[1;33m \u001b[0mlst_1\u001b[0m\u001b[1;33m.\u001b[0m\u001b[0msort\u001b[0m\u001b[1;33m(\u001b[0m\u001b[1;33m)\u001b[0m\u001b[1;33m\u001b[0m\u001b[1;33m\u001b[0m\u001b[0m\n\u001b[0m\u001b[0;32m      2\u001b[0m \u001b[0mprint\u001b[0m\u001b[1;33m(\u001b[0m\u001b[0mlst_1\u001b[0m\u001b[1;33m)\u001b[0m\u001b[1;33m\u001b[0m\u001b[1;33m\u001b[0m\u001b[0m\n",
      "\u001b[1;31mTypeError\u001b[0m: '<' not supported between instances of 'list' and 'int'"
     ]
    }
   ],
   "source": [
    "lst_1.sort()\n",
    "print(lst_1)"
   ]
  },
  {
   "cell_type": "code",
   "execution_count": 17,
   "id": "8404a2d6",
   "metadata": {},
   "outputs": [
    {
     "name": "stdout",
     "output_type": "stream",
     "text": [
      "[2, ['Appending list'], 2, 1]\n"
     ]
    }
   ],
   "source": [
    "lst_1.remove(\"list\")\n",
    "print(lst_1)"
   ]
  },
  {
   "cell_type": "code",
   "execution_count": 18,
   "id": "35ff74da",
   "metadata": {},
   "outputs": [
    {
     "name": "stdout",
     "output_type": "stream",
     "text": [
      "[2, 2, 1]\n"
     ]
    }
   ],
   "source": [
    "lst_1.remove([\"Appending list\"])\n",
    "print(lst_1)"
   ]
  },
  {
   "cell_type": "code",
   "execution_count": 19,
   "id": "80b46776",
   "metadata": {},
   "outputs": [
    {
     "name": "stdout",
     "output_type": "stream",
     "text": [
      "[1, 2, 2]\n"
     ]
    }
   ],
   "source": [
    "# Sorting numbers\n",
    "lst_1.sort()\n",
    "print(lst_1)"
   ]
  },
  {
   "cell_type": "code",
   "execution_count": 20,
   "id": "bc82c9f7",
   "metadata": {},
   "outputs": [
    {
     "data": {
      "text/plain": [
       "['a', 'b', 'helo', 'z']"
      ]
     },
     "execution_count": 20,
     "metadata": {},
     "output_type": "execute_result"
    }
   ],
   "source": [
    "#Sorting word\n",
    "ls = [\"helo\", \"a\", \"z\", \"b\"]\n",
    "ls.sort()\n",
    "ls"
   ]
  },
  {
   "cell_type": "markdown",
   "id": "8bfc504f",
   "metadata": {},
   "source": [
    "Clearing the List"
   ]
  },
  {
   "cell_type": "code",
   "execution_count": 21,
   "id": "71b24fa1",
   "metadata": {},
   "outputs": [
    {
     "data": {
      "text/plain": [
       "[1, 2, 2]"
      ]
     },
     "execution_count": 21,
     "metadata": {},
     "output_type": "execute_result"
    }
   ],
   "source": [
    "lst_1"
   ]
  },
  {
   "cell_type": "code",
   "execution_count": 22,
   "id": "ef223ba1",
   "metadata": {},
   "outputs": [
    {
     "data": {
      "text/plain": [
       "['a', 'b', 'helo', 'z']"
      ]
     },
     "execution_count": 22,
     "metadata": {},
     "output_type": "execute_result"
    }
   ],
   "source": [
    "ls"
   ]
  },
  {
   "cell_type": "code",
   "execution_count": 23,
   "id": "819c5340",
   "metadata": {},
   "outputs": [
    {
     "name": "stdout",
     "output_type": "stream",
     "text": [
      "[]\n"
     ]
    }
   ],
   "source": [
    "lst_1.clear()  #  Removes all elements from the list\n",
    "print(lst_1)"
   ]
  },
  {
   "cell_type": "code",
   "execution_count": 24,
   "id": "eee0bfc0",
   "metadata": {},
   "outputs": [
    {
     "name": "stdout",
     "output_type": "stream",
     "text": [
      "[]\n"
     ]
    }
   ],
   "source": [
    "ls.clear()\n",
    "print(ls)"
   ]
  },
  {
   "cell_type": "code",
   "execution_count": null,
   "id": "995ca4f7",
   "metadata": {},
   "outputs": [],
   "source": []
  }
 ],
 "metadata": {
  "kernelspec": {
   "display_name": "Python 3",
   "language": "python",
   "name": "python3"
  },
  "language_info": {
   "codemirror_mode": {
    "name": "ipython",
    "version": 3
   },
   "file_extension": ".py",
   "mimetype": "text/x-python",
   "name": "python",
   "nbconvert_exporter": "python",
   "pygments_lexer": "ipython3",
   "version": "3.8.8"
  }
 },
 "nbformat": 4,
 "nbformat_minor": 5
}
