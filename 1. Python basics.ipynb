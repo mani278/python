{
 "cells": [
  {
   "cell_type": "markdown",
   "id": "bc93521a",
   "metadata": {},
   "source": [
    "# Basics of Python"
   ]
  },
  {
   "cell_type": "markdown",
   "id": "3942ef14",
   "metadata": {},
   "source": [
    "Very most example on all programming languages is HELLO WORLD.\n",
    "Lets to that."
   ]
  },
  {
   "cell_type": "code",
   "execution_count": 1,
   "id": "5b0bd301",
   "metadata": {},
   "outputs": [
    {
     "name": "stdout",
     "output_type": "stream",
     "text": [
      "HELLO WORLD\n"
     ]
    }
   ],
   "source": [
    "print(\"HELLO WORLD\")"
   ]
  },
  {
   "cell_type": "markdown",
   "id": "23ccd14d",
   "metadata": {},
   "source": [
    "Lets craete a variable \\:"
   ]
  },
  {
   "cell_type": "code",
   "execution_count": 2,
   "id": "4df2cc7b",
   "metadata": {},
   "outputs": [],
   "source": [
    "#Creating an interger\n",
    "a = 5"
   ]
  },
  {
   "cell_type": "code",
   "execution_count": 3,
   "id": "17c2106d",
   "metadata": {},
   "outputs": [],
   "source": [
    "#Creating a float\n",
    "b = 4.9"
   ]
  },
  {
   "cell_type": "code",
   "execution_count": 4,
   "id": "d7d10c07",
   "metadata": {},
   "outputs": [],
   "source": [
    "#Creating a String\n",
    "s = \"This is the basics of python\""
   ]
  },
  {
   "cell_type": "markdown",
   "id": "498b4e4b",
   "metadata": {},
   "source": [
    "One of the special in python is that we don't want to declare a data type. Instead, it will automically detect the type and assign itself."
   ]
  },
  {
   "cell_type": "markdown",
   "id": "ebcc9296",
   "metadata": {},
   "source": [
    "Lets check the data types:"
   ]
  },
  {
   "cell_type": "code",
   "execution_count": 5,
   "id": "517ccec3",
   "metadata": {},
   "outputs": [
    {
     "data": {
      "text/plain": [
       "int"
      ]
     },
     "execution_count": 5,
     "metadata": {},
     "output_type": "execute_result"
    }
   ],
   "source": [
    "type(a)"
   ]
  },
  {
   "cell_type": "code",
   "execution_count": 6,
   "id": "f22dccdd",
   "metadata": {},
   "outputs": [
    {
     "data": {
      "text/plain": [
       "float"
      ]
     },
     "execution_count": 6,
     "metadata": {},
     "output_type": "execute_result"
    }
   ],
   "source": [
    "type(b)"
   ]
  },
  {
   "cell_type": "code",
   "execution_count": 7,
   "id": "4a639a3a",
   "metadata": {},
   "outputs": [
    {
     "data": {
      "text/plain": [
       "str"
      ]
     },
     "execution_count": 7,
     "metadata": {},
     "output_type": "execute_result"
    }
   ],
   "source": [
    "type(s)"
   ]
  },
  {
   "cell_type": "markdown",
   "id": "f78a0461",
   "metadata": {},
   "source": [
    "Lets do some simple calculations:"
   ]
  },
  {
   "cell_type": "code",
   "execution_count": 8,
   "id": "84740556",
   "metadata": {},
   "outputs": [
    {
     "data": {
      "text/plain": [
       "9.9"
      ]
     },
     "execution_count": 8,
     "metadata": {},
     "output_type": "execute_result"
    }
   ],
   "source": [
    "a + b   #Adds a and b"
   ]
  },
  {
   "cell_type": "code",
   "execution_count": 9,
   "id": "bfd61958",
   "metadata": {},
   "outputs": [
    {
     "data": {
      "text/plain": [
       "0.09999999999999964"
      ]
     },
     "execution_count": 9,
     "metadata": {},
     "output_type": "execute_result"
    }
   ],
   "source": [
    "a - b   #subtracts a and b"
   ]
  },
  {
   "cell_type": "code",
   "execution_count": 10,
   "id": "5bf86ccc",
   "metadata": {},
   "outputs": [
    {
     "data": {
      "text/plain": [
       "1.0204081632653061"
      ]
     },
     "execution_count": 10,
     "metadata": {},
     "output_type": "execute_result"
    }
   ],
   "source": [
    "a / b   #Divides a and b"
   ]
  },
  {
   "cell_type": "code",
   "execution_count": 11,
   "id": "642d9d6b",
   "metadata": {},
   "outputs": [
    {
     "data": {
      "text/plain": [
       "24.5"
      ]
     },
     "execution_count": 11,
     "metadata": {},
     "output_type": "execute_result"
    }
   ],
   "source": [
    "a * b   #Multiplies a and b"
   ]
  },
  {
   "cell_type": "markdown",
   "id": "2ea7463f",
   "metadata": {},
   "source": [
    "# PRINT METHODS:"
   ]
  },
  {
   "cell_type": "code",
   "execution_count": 12,
   "id": "78062668",
   "metadata": {},
   "outputs": [],
   "source": [
    "a = 6\n",
    "s = \"Hi\""
   ]
  },
  {
   "cell_type": "markdown",
   "id": "d838eb10",
   "metadata": {},
   "source": [
    "Type 1, Comma method:"
   ]
  },
  {
   "cell_type": "code",
   "execution_count": 13,
   "id": "16ae7dcc",
   "metadata": {},
   "outputs": [
    {
     "name": "stdout",
     "output_type": "stream",
     "text": [
      "Hi i am 6 years old\n"
     ]
    }
   ],
   "source": [
    "print(s,\"i am\",a,\"years old\")"
   ]
  },
  {
   "cell_type": "markdown",
   "id": "e898c066",
   "metadata": {},
   "source": [
    "Type 2, format method:"
   ]
  },
  {
   "cell_type": "code",
   "execution_count": 14,
   "id": "73b26afb",
   "metadata": {},
   "outputs": [
    {
     "name": "stdout",
     "output_type": "stream",
     "text": [
      "Hi i am 6 years old\n"
     ]
    }
   ],
   "source": [
    "print(\"{} i am {} years old\".format(s,a))"
   ]
  },
  {
   "cell_type": "code",
   "execution_count": 15,
   "id": "fb45dd11",
   "metadata": {},
   "outputs": [
    {
     "name": "stdout",
     "output_type": "stream",
     "text": [
      "This is a basics\n"
     ]
    }
   ],
   "source": [
    "print(\"{x} is a {y}\".format(x=\"This\",y=\"basics\"))"
   ]
  },
  {
   "cell_type": "markdown",
   "id": "472c0462",
   "metadata": {},
   "source": [
    "Type 3, Formated string method:"
   ]
  },
  {
   "cell_type": "code",
   "execution_count": 16,
   "id": "a2e0c17c",
   "metadata": {},
   "outputs": [
    {
     "name": "stdout",
     "output_type": "stream",
     "text": [
      "Hi i am 6 years old\n"
     ]
    }
   ],
   "source": [
    "print(f\"{s} i am {a} years old\")"
   ]
  },
  {
   "cell_type": "code",
   "execution_count": null,
   "id": "16375fb1",
   "metadata": {},
   "outputs": [],
   "source": []
  },
  {
   "cell_type": "code",
   "execution_count": null,
   "id": "db1b36a2",
   "metadata": {},
   "outputs": [],
   "source": []
  }
 ],
 "metadata": {
  "kernelspec": {
   "display_name": "Python 3",
   "language": "python",
   "name": "python3"
  },
  "language_info": {
   "codemirror_mode": {
    "name": "ipython",
    "version": 3
   },
   "file_extension": ".py",
   "mimetype": "text/x-python",
   "name": "python",
   "nbconvert_exporter": "python",
   "pygments_lexer": "ipython3",
   "version": "3.8.8"
  }
 },
 "nbformat": 4,
 "nbformat_minor": 5
}
